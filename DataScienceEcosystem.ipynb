{
 "cells": [
  {
   "cell_type": "markdown",
   "id": "49d58816",
   "metadata": {},
   "source": [
    "# Data Science Tools and Ecosystem\n"
   ]
  },
  {
   "cell_type": "markdown",
   "id": "9bd24439",
   "metadata": {},
   "source": [
    "In this notebook, Data Science Tools and Ecosystem are summarized.\n"
   ]
  },
  {
   "cell_type": "markdown",
   "id": "03bf78dc",
   "metadata": {},
   "source": [
    "Some of the popular languages that Data Scientists use are:\n",
    "1. Python\n",
    "2. R\n",
    "3. Java"
   ]
  },
  {
   "cell_type": "markdown",
   "id": "3ea33350",
   "metadata": {},
   "source": [
    "Some of the commonly used libraries used by Data Scientists include:\n",
    "1. Numpy\n",
    "2. Pandas\n",
    "3. Scikitlearn\n",
    "4. ggplot"
   ]
  },
  {
   "cell_type": "markdown",
   "id": "26fc35dd",
   "metadata": {},
   "source": [
    "| Data Science Tools      |\n",
    "|-------------------------|\n",
    "| Tool 1 (e.g., Jupyter)  |\n",
    "| Tool 2 (e.g., RStudio)  |\n",
    "| Tool 3 (e.g., VS Code)  |\n"
   ]
  },
  {
   "cell_type": "markdown",
   "id": "11eceade",
   "metadata": {},
   "source": [
    "### Below are a few examples of evaluating arithmetic expressions in Python.\n"
   ]
  },
  {
   "cell_type": "code",
   "execution_count": 3,
   "id": "a8279374",
   "metadata": {},
   "outputs": [
    {
     "data": {
      "text/plain": [
       "17"
      ]
     },
     "execution_count": 3,
     "metadata": {},
     "output_type": "execute_result"
    }
   ],
   "source": [
    "#This a simple arithmetic expression to mutiply then add integers\n",
    "(3*4)+5"
   ]
  },
  {
   "cell_type": "code",
   "execution_count": 4,
   "id": "a97ace6e",
   "metadata": {},
   "outputs": [
    {
     "data": {
      "text/plain": [
       "3.3333333333333335"
      ]
     },
     "execution_count": 4,
     "metadata": {},
     "output_type": "execute_result"
    }
   ],
   "source": [
    "#This will convert 200 minutes to hours by diving by 60\n",
    "200/60"
   ]
  },
  {
   "cell_type": "markdown",
   "id": "64a094b6",
   "metadata": {},
   "source": [
    "**Objectives:**\n",
    "\n",
    "- List popular languages for Data Science.\n",
    "- Explain the importance of Jupyter Notebook.\n",
    "- Introduce basic Markdown formatting in Jupyter Notebook.\n",
    "- Create Markdown cells with headings and lists.\n",
    "- Demonstrate how to insert images and tables in Markdown cells.\n"
   ]
  },
  {
   "cell_type": "markdown",
   "id": "be83cc75",
   "metadata": {},
   "source": [
    "## Author\n",
    "Thilak Loganathan"
   ]
  },
  {
   "cell_type": "code",
   "execution_count": null,
   "id": "3b02702f",
   "metadata": {},
   "outputs": [],
   "source": []
  }
 ],
 "metadata": {
  "kernelspec": {
   "display_name": "Python 3 (ipykernel)",
   "language": "python",
   "name": "python3"
  },
  "language_info": {
   "codemirror_mode": {
    "name": "ipython",
    "version": 3
   },
   "file_extension": ".py",
   "mimetype": "text/x-python",
   "name": "python",
   "nbconvert_exporter": "python",
   "pygments_lexer": "ipython3",
   "version": "3.11.5"
  }
 },
 "nbformat": 4,
 "nbformat_minor": 5
}
